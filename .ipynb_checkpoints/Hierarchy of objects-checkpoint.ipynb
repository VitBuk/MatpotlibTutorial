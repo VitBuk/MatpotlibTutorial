{
 "cells": [
  {
   "cell_type": "markdown",
   "id": "73765035-8b10-4236-9ae8-8af02c0f694e",
   "metadata": {},
   "source": [
    "Matplotlib Object Hierarchy\r\n",
    "There is an Object Hierarchy within Matplotlib. In Matplotlib, a plot is a hierarchy of nested Python objects. Ahierarch means that there is a tree-like structure of Matplotlib objects underlying each plot.\r\n",
    "\r\n",
    "A Figure object is the outermost container for a Matplotlib plot. The Figure object contain multiple Axes objects. So, the Figure is the final graphic that may contain one or more Axes. The Axes represent an individual plot.\r\n",
    "\r\n",
    "So, we can think of the Figure object as a box-like container containing one or more Axes. The Axes object contain smaller objects such as tick marks, lines, legends, title and text-boxes."
   ]
  },
  {
   "cell_type": "code",
   "execution_count": 1,
   "id": "717678d3-fe74-4eec-87f6-519de03665f9",
   "metadata": {},
   "outputs": [],
   "source": [
    "import matplotlib.pyplot as plt"
   ]
  },
  {
   "cell_type": "code",
   "execution_count": 2,
   "id": "7c791064-d53c-4f88-a1f1-929df9821180",
   "metadata": {},
   "outputs": [
    {
     "data": {
      "text/plain": [
       "<Figure size 640x480 with 0 Axes>"
      ]
     },
     "metadata": {},
     "output_type": "display_data"
    }
   ],
   "source": [
    "fig = plt.figure()"
   ]
  },
  {
   "cell_type": "markdown",
   "id": "a812135d-0e87-4672-9cbc-ad1320c037e7",
   "metadata": {},
   "source": [
    "Parameters:\r\n",
    "numint or str or Figure or SubFigure, optional\r\n",
    "A unique identifier for the figure.\r\n",
    "\r\n",
    "If a figure with that identifier already exists, this figure is made active and returned. An integer refers to the Figure.number attribute, a string refers to the figure label.\r\n",
    "\r\n",
    "If there is no figure with the identifier or num is not given, a new figure is created, made active and returned. If num is an int, it will be used for the Figure.number attribute, otherwise, an auto-generated integer value is used (starting at 1 and incremented for each new figure). If num is a string, the figure label and the window title is set to this value. If num is a SubFigure, its parent Figure is activated.\r\n",
    "\r\n",
    "figsize(float, float), default: rcParams[\"figure.figsize\"] (default: [6.4, 4.8])\r\n",
    "Width, height in inches."
   ]
  },
  {
   "cell_type": "markdown",
   "id": "92328d38-d05b-4c8a-8d19-c039e54a79e7",
   "metadata": {},
   "source": [
    "8. Pyplot API\r\n",
    "Matplotlib.pyplot provides a MATLAB-style, procedural, state-machine interface to the underlying object-oriented library in Matplotlib. Pyplot is a collection of command style functions that make Matplotlib work like MATLAB. Each pyplot function makes some change to a figure - e.g., creates a figure, creates a plotting area in a figure etc.\r\n",
    "\r\n",
    "Matplotlib.pyplot is stateful because the underlying engine keeps track of the current figure and plotting area information and plotting functions change that information. To make it clearer, we did not use any object references during our plotting we just issued a pyplot command, and the changes appeared in the figure.\r\n",
    "\r\n",
    "We can get a reference to the current figure and axes using the following commands-"
   ]
  },
  {
   "cell_type": "code",
   "execution_count": 3,
   "id": "443d37c2-359c-4300-8f57-765a05a1ca60",
   "metadata": {},
   "outputs": [
    {
     "data": {
      "text/plain": [
       "<function matplotlib.pyplot.gcf() -> 'Figure'>"
      ]
     },
     "execution_count": 3,
     "metadata": {},
     "output_type": "execute_result"
    }
   ],
   "source": [
    "plt.gcf"
   ]
  },
  {
   "cell_type": "code",
   "execution_count": 4,
   "id": "0a25df93-e4ed-48ab-848e-816874de7dff",
   "metadata": {},
   "outputs": [
    {
     "data": {
      "text/plain": [
       "<function matplotlib.pyplot.gca() -> 'Axes'>"
      ]
     },
     "execution_count": 4,
     "metadata": {},
     "output_type": "execute_result"
    }
   ],
   "source": [
    "plt.gca"
   ]
  },
  {
   "cell_type": "markdown",
   "id": "d1645131-fe87-4e27-b19d-86a15d707f29",
   "metadata": {},
   "source": [
    "Matplotlib.pyplot is a collection of commands and functions that make Matplotlib behave like MATLAB (for plotting). The MATLAB-style tools are contained in the pyplot (plt) interface.\r\n",
    "\r\n",
    "This is really helpful for interactive plotting, because we can issue a command and see the result immediately. But, it is not suitable for more complicated cases. For these cases, we have another interface called Object-Oriented interface, described later."
   ]
  },
  {
   "cell_type": "code",
   "execution_count": 8,
   "id": "6a9ce9b3-216c-4a99-855c-b8925f3854f3",
   "metadata": {},
   "outputs": [
    {
     "ename": "NameError",
     "evalue": "name 'np' is not defined",
     "output_type": "error",
     "traceback": [
      "\u001b[1;31m---------------------------------------------------------------------------\u001b[0m",
      "\u001b[1;31mNameError\u001b[0m                                 Traceback (most recent call last)",
      "Cell \u001b[1;32mIn[8], line 4\u001b[0m\n\u001b[0;32m      1\u001b[0m get_ipython()\u001b[38;5;241m.\u001b[39mrun_line_magic(\u001b[38;5;124m'\u001b[39m\u001b[38;5;124mmatplotlib\u001b[39m\u001b[38;5;124m'\u001b[39m, \u001b[38;5;124m'\u001b[39m\u001b[38;5;124minline\u001b[39m\u001b[38;5;124m'\u001b[39m)\n\u001b[1;32m----> 4\u001b[0m x1 \u001b[38;5;241m=\u001b[39m np\u001b[38;5;241m.\u001b[39mlinspace(\u001b[38;5;241m0\u001b[39m, \u001b[38;5;241m10\u001b[39m, \u001b[38;5;241m100\u001b[39m)\n\u001b[0;32m      7\u001b[0m \u001b[38;5;66;03m# create a plot figure\u001b[39;00m\n\u001b[0;32m      8\u001b[0m fig \u001b[38;5;241m=\u001b[39m plt\u001b[38;5;241m.\u001b[39mfigure()\n",
      "\u001b[1;31mNameError\u001b[0m: name 'np' is not defined"
     ]
    }
   ],
   "source": [
    "%matplotlib inline\n",
    "\n",
    "\n",
    "x1 = np.linspace(0, 10, 100)\n",
    "\n",
    "\n",
    "# create a plot figure\n",
    "fig = plt.figure()\n",
    "\n",
    "plt.plot(x1, np.sin(x1), '-')\n",
    "plt.plot(x1, np.cos(x1), '--')# create a plot figure\n",
    "\n",
    "plt.figure()\n",
    "\n",
    "\n",
    "# create the first of two panels and set current axis\n",
    "plt.subplot(2, 1, 1)   # (rows, columns, panel number)\n",
    "plt.plot(x1, np.sin(x1))\n",
    "\n",
    "\n",
    "# create the second of two panels and set current axis\n",
    "plt.subplot(2, 1, 2)   # (rows, columns, panel number)\n",
    "plt.plot(x1, np.cos(x1));"
   ]
  },
  {
   "cell_type": "code",
   "execution_count": null,
   "id": "e0b74250-052c-4ada-bf71-ff903a6f16d8",
   "metadata": {},
   "outputs": [],
   "source": []
  },
  {
   "cell_type": "code",
   "execution_count": null,
   "id": "8c75ccdc-72d8-48d4-b6e4-1da79430b207",
   "metadata": {},
   "outputs": [],
   "source": []
  }
 ],
 "metadata": {
  "kernelspec": {
   "display_name": "Python 3 (ipykernel)",
   "language": "python",
   "name": "python3"
  },
  "language_info": {
   "codemirror_mode": {
    "name": "ipython",
    "version": 3
   },
   "file_extension": ".py",
   "mimetype": "text/x-python",
   "name": "python",
   "nbconvert_exporter": "python",
   "pygments_lexer": "ipython3",
   "version": "3.11.7"
  }
 },
 "nbformat": 4,
 "nbformat_minor": 5
}
